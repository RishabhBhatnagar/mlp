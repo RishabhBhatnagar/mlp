{
 "cells": [
  {
   "cell_type": "markdown",
   "metadata": {},
   "source": [
    "## This notebook will take all essays and map their scores between 0 to 1"
   ]
  },
  {
   "cell_type": "code",
   "execution_count": 1,
   "metadata": {},
   "outputs": [],
   "source": [
    "import numpy as np\n",
    "import pandas as pd\n",
    "from matplotlib import pyplot as plt\n",
    "import seaborn as sns\n",
    "\n",
    "from sklearn.model_selection import train_test_split\n",
    "from sklearn.linear_model import LinearRegression\n",
    "from sklearn import metrics\n",
    "\n",
    "%matplotlib inline"
   ]
  },
  {
   "cell_type": "code",
   "execution_count": 2,
   "metadata": {},
   "outputs": [],
   "source": [
    "training_tsv = 'training_set_rel3.tsv'\n",
    "valid_tsv = 'valid_set.tsv'\n",
    "test_tsv = 'test_set.tsv'\n",
    "\n",
    "df_params = {'delimiter': '\\t', 'encoding': 'ansi'}\n"
   ]
  },
  {
   "cell_type": "code",
   "execution_count": 3,
   "metadata": {},
   "outputs": [
    {
     "data": {
      "text/html": [
       "<div>\n",
       "<style scoped>\n",
       "    .dataframe tbody tr th:only-of-type {\n",
       "        vertical-align: middle;\n",
       "    }\n",
       "\n",
       "    .dataframe tbody tr th {\n",
       "        vertical-align: top;\n",
       "    }\n",
       "\n",
       "    .dataframe thead th {\n",
       "        text-align: right;\n",
       "    }\n",
       "</style>\n",
       "<table border=\"1\" class=\"dataframe\">\n",
       "  <thead>\n",
       "    <tr style=\"text-align: right;\">\n",
       "      <th></th>\n",
       "      <th>essay_id</th>\n",
       "      <th>essay_set</th>\n",
       "      <th>essay</th>\n",
       "      <th>rater1_domain1</th>\n",
       "      <th>rater2_domain1</th>\n",
       "      <th>rater3_domain1</th>\n",
       "      <th>domain1_score</th>\n",
       "      <th>rater1_domain2</th>\n",
       "      <th>rater2_domain2</th>\n",
       "      <th>domain2_score</th>\n",
       "      <th>...</th>\n",
       "      <th>rater2_trait3</th>\n",
       "      <th>rater2_trait4</th>\n",
       "      <th>rater2_trait5</th>\n",
       "      <th>rater2_trait6</th>\n",
       "      <th>rater3_trait1</th>\n",
       "      <th>rater3_trait2</th>\n",
       "      <th>rater3_trait3</th>\n",
       "      <th>rater3_trait4</th>\n",
       "      <th>rater3_trait5</th>\n",
       "      <th>rater3_trait6</th>\n",
       "    </tr>\n",
       "  </thead>\n",
       "  <tbody>\n",
       "    <tr>\n",
       "      <th>0</th>\n",
       "      <td>1</td>\n",
       "      <td>1</td>\n",
       "      <td>Dear local newspaper, I think effects computer...</td>\n",
       "      <td>4</td>\n",
       "      <td>4</td>\n",
       "      <td>NaN</td>\n",
       "      <td>8</td>\n",
       "      <td>NaN</td>\n",
       "      <td>NaN</td>\n",
       "      <td>NaN</td>\n",
       "      <td>...</td>\n",
       "      <td>NaN</td>\n",
       "      <td>NaN</td>\n",
       "      <td>NaN</td>\n",
       "      <td>NaN</td>\n",
       "      <td>NaN</td>\n",
       "      <td>NaN</td>\n",
       "      <td>NaN</td>\n",
       "      <td>NaN</td>\n",
       "      <td>NaN</td>\n",
       "      <td>NaN</td>\n",
       "    </tr>\n",
       "    <tr>\n",
       "      <th>1</th>\n",
       "      <td>2</td>\n",
       "      <td>1</td>\n",
       "      <td>Dear @CAPS1 @CAPS2, I believe that using compu...</td>\n",
       "      <td>5</td>\n",
       "      <td>4</td>\n",
       "      <td>NaN</td>\n",
       "      <td>9</td>\n",
       "      <td>NaN</td>\n",
       "      <td>NaN</td>\n",
       "      <td>NaN</td>\n",
       "      <td>...</td>\n",
       "      <td>NaN</td>\n",
       "      <td>NaN</td>\n",
       "      <td>NaN</td>\n",
       "      <td>NaN</td>\n",
       "      <td>NaN</td>\n",
       "      <td>NaN</td>\n",
       "      <td>NaN</td>\n",
       "      <td>NaN</td>\n",
       "      <td>NaN</td>\n",
       "      <td>NaN</td>\n",
       "    </tr>\n",
       "    <tr>\n",
       "      <th>2</th>\n",
       "      <td>3</td>\n",
       "      <td>1</td>\n",
       "      <td>Dear, @CAPS1 @CAPS2 @CAPS3 More and more peopl...</td>\n",
       "      <td>4</td>\n",
       "      <td>3</td>\n",
       "      <td>NaN</td>\n",
       "      <td>7</td>\n",
       "      <td>NaN</td>\n",
       "      <td>NaN</td>\n",
       "      <td>NaN</td>\n",
       "      <td>...</td>\n",
       "      <td>NaN</td>\n",
       "      <td>NaN</td>\n",
       "      <td>NaN</td>\n",
       "      <td>NaN</td>\n",
       "      <td>NaN</td>\n",
       "      <td>NaN</td>\n",
       "      <td>NaN</td>\n",
       "      <td>NaN</td>\n",
       "      <td>NaN</td>\n",
       "      <td>NaN</td>\n",
       "    </tr>\n",
       "    <tr>\n",
       "      <th>3</th>\n",
       "      <td>4</td>\n",
       "      <td>1</td>\n",
       "      <td>Dear Local Newspaper, @CAPS1 I have found that...</td>\n",
       "      <td>5</td>\n",
       "      <td>5</td>\n",
       "      <td>NaN</td>\n",
       "      <td>10</td>\n",
       "      <td>NaN</td>\n",
       "      <td>NaN</td>\n",
       "      <td>NaN</td>\n",
       "      <td>...</td>\n",
       "      <td>NaN</td>\n",
       "      <td>NaN</td>\n",
       "      <td>NaN</td>\n",
       "      <td>NaN</td>\n",
       "      <td>NaN</td>\n",
       "      <td>NaN</td>\n",
       "      <td>NaN</td>\n",
       "      <td>NaN</td>\n",
       "      <td>NaN</td>\n",
       "      <td>NaN</td>\n",
       "    </tr>\n",
       "    <tr>\n",
       "      <th>4</th>\n",
       "      <td>5</td>\n",
       "      <td>1</td>\n",
       "      <td>Dear @LOCATION1, I know having computers has a...</td>\n",
       "      <td>4</td>\n",
       "      <td>4</td>\n",
       "      <td>NaN</td>\n",
       "      <td>8</td>\n",
       "      <td>NaN</td>\n",
       "      <td>NaN</td>\n",
       "      <td>NaN</td>\n",
       "      <td>...</td>\n",
       "      <td>NaN</td>\n",
       "      <td>NaN</td>\n",
       "      <td>NaN</td>\n",
       "      <td>NaN</td>\n",
       "      <td>NaN</td>\n",
       "      <td>NaN</td>\n",
       "      <td>NaN</td>\n",
       "      <td>NaN</td>\n",
       "      <td>NaN</td>\n",
       "      <td>NaN</td>\n",
       "    </tr>\n",
       "  </tbody>\n",
       "</table>\n",
       "<p>5 rows × 28 columns</p>\n",
       "</div>"
      ],
      "text/plain": [
       "   essay_id  essay_set                                              essay  \\\n",
       "0         1          1  Dear local newspaper, I think effects computer...   \n",
       "1         2          1  Dear @CAPS1 @CAPS2, I believe that using compu...   \n",
       "2         3          1  Dear, @CAPS1 @CAPS2 @CAPS3 More and more peopl...   \n",
       "3         4          1  Dear Local Newspaper, @CAPS1 I have found that...   \n",
       "4         5          1  Dear @LOCATION1, I know having computers has a...   \n",
       "\n",
       "   rater1_domain1  rater2_domain1  rater3_domain1  domain1_score  \\\n",
       "0               4               4             NaN              8   \n",
       "1               5               4             NaN              9   \n",
       "2               4               3             NaN              7   \n",
       "3               5               5             NaN             10   \n",
       "4               4               4             NaN              8   \n",
       "\n",
       "   rater1_domain2  rater2_domain2  domain2_score  ...  rater2_trait3  \\\n",
       "0             NaN             NaN            NaN  ...            NaN   \n",
       "1             NaN             NaN            NaN  ...            NaN   \n",
       "2             NaN             NaN            NaN  ...            NaN   \n",
       "3             NaN             NaN            NaN  ...            NaN   \n",
       "4             NaN             NaN            NaN  ...            NaN   \n",
       "\n",
       "   rater2_trait4  rater2_trait5  rater2_trait6  rater3_trait1  rater3_trait2  \\\n",
       "0            NaN            NaN            NaN            NaN            NaN   \n",
       "1            NaN            NaN            NaN            NaN            NaN   \n",
       "2            NaN            NaN            NaN            NaN            NaN   \n",
       "3            NaN            NaN            NaN            NaN            NaN   \n",
       "4            NaN            NaN            NaN            NaN            NaN   \n",
       "\n",
       "   rater3_trait3  rater3_trait4  rater3_trait5  rater3_trait6  \n",
       "0            NaN            NaN            NaN            NaN  \n",
       "1            NaN            NaN            NaN            NaN  \n",
       "2            NaN            NaN            NaN            NaN  \n",
       "3            NaN            NaN            NaN            NaN  \n",
       "4            NaN            NaN            NaN            NaN  \n",
       "\n",
       "[5 rows x 28 columns]"
      ]
     },
     "execution_count": 3,
     "metadata": {},
     "output_type": "execute_result"
    }
   ],
   "source": [
    "\n",
    "df_training = pd.read_csv(training_tsv, **df_params)\n",
    "df_valid = pd.read_csv(valid_tsv, **df_params)\n",
    "df_test = pd.read_csv(test_tsv, **df_params)\n",
    "\n",
    "# do not Append all dataframes to one another so you get one big dataframe\n",
    "# since validation and test dataframes don't have domain1_score column\n",
    "\n",
    "df_training.head()"
   ]
  },
  {
   "cell_type": "code",
   "execution_count": 4,
   "metadata": {},
   "outputs": [
    {
     "name": "stdout",
     "output_type": "stream",
     "text": [
      "<class 'pandas.core.frame.DataFrame'>\n",
      "Int64Index: 7101 entries, 3583 to 10683\n",
      "Data columns (total 4 columns):\n",
      "essay_id         7101 non-null int64\n",
      "essay_set        7101 non-null int64\n",
      "essay            7101 non-null object\n",
      "domain1_score    7101 non-null int64\n",
      "dtypes: int64(3), object(1)\n",
      "memory usage: 277.4+ KB\n",
      "None\n"
     ]
    },
    {
     "data": {
      "text/html": [
       "<div>\n",
       "<style scoped>\n",
       "    .dataframe tbody tr th:only-of-type {\n",
       "        vertical-align: middle;\n",
       "    }\n",
       "\n",
       "    .dataframe tbody tr th {\n",
       "        vertical-align: top;\n",
       "    }\n",
       "\n",
       "    .dataframe thead th {\n",
       "        text-align: right;\n",
       "    }\n",
       "</style>\n",
       "<table border=\"1\" class=\"dataframe\">\n",
       "  <thead>\n",
       "    <tr style=\"text-align: right;\">\n",
       "      <th></th>\n",
       "      <th>essay_id</th>\n",
       "      <th>essay_set</th>\n",
       "      <th>essay</th>\n",
       "      <th>domain1_score</th>\n",
       "    </tr>\n",
       "  </thead>\n",
       "  <tbody>\n",
       "    <tr>\n",
       "      <th>3583</th>\n",
       "      <td>5978</td>\n",
       "      <td>3</td>\n",
       "      <td>The features of the setting affect the cyclist...</td>\n",
       "      <td>1</td>\n",
       "    </tr>\n",
       "    <tr>\n",
       "      <th>3584</th>\n",
       "      <td>5979</td>\n",
       "      <td>3</td>\n",
       "      <td>The features of the setting affected the cycli...</td>\n",
       "      <td>2</td>\n",
       "    </tr>\n",
       "    <tr>\n",
       "      <th>3585</th>\n",
       "      <td>5980</td>\n",
       "      <td>3</td>\n",
       "      <td>Everyone travels to unfamiliar places. Sometim...</td>\n",
       "      <td>1</td>\n",
       "    </tr>\n",
       "    <tr>\n",
       "      <th>3586</th>\n",
       "      <td>5981</td>\n",
       "      <td>3</td>\n",
       "      <td>I believe the features of the cyclist affected...</td>\n",
       "      <td>1</td>\n",
       "    </tr>\n",
       "    <tr>\n",
       "      <th>3587</th>\n",
       "      <td>5982</td>\n",
       "      <td>3</td>\n",
       "      <td>The setting effects the cyclist because of the...</td>\n",
       "      <td>2</td>\n",
       "    </tr>\n",
       "  </tbody>\n",
       "</table>\n",
       "</div>"
      ],
      "text/plain": [
       "      essay_id  essay_set                                              essay  \\\n",
       "3583      5978          3  The features of the setting affect the cyclist...   \n",
       "3584      5979          3  The features of the setting affected the cycli...   \n",
       "3585      5980          3  Everyone travels to unfamiliar places. Sometim...   \n",
       "3586      5981          3  I believe the features of the cyclist affected...   \n",
       "3587      5982          3  The setting effects the cyclist because of the...   \n",
       "\n",
       "      domain1_score  \n",
       "3583              1  \n",
       "3584              2  \n",
       "3585              1  \n",
       "3586              1  \n",
       "3587              2  "
      ]
     },
     "execution_count": 4,
     "metadata": {},
     "output_type": "execute_result"
    }
   ],
   "source": [
    "def remove_unneeded(df):\n",
    "    df = df[['essay_id', 'essay_set', 'essay', 'domain1_score',]]\n",
    "    \n",
    "    # ONLY SELECT ESSAY SETS 3 4 5 6 ie 150 words\n",
    "    # https://chrisalbon.com/python/data_wrangling/pandas_select_rows_when_column_has_certain_values/\n",
    "    df = df[ df['essay_set'].isin([3, 4, 5, 6]) ]\n",
    "    return df\n",
    "\n",
    "# Apply the function to df\n",
    "df_training = remove_unneeded(df_training)\n",
    "print(df_training.info())\n",
    "df_training.head()"
   ]
  },
  {
   "cell_type": "code",
   "execution_count": 5,
   "metadata": {},
   "outputs": [
    {
     "name": "stdout",
     "output_type": "stream",
     "text": [
      "<class 'pandas.core.frame.DataFrame'>\n",
      "Int64Index: 7101 entries, 3583 to 10683\n",
      "Data columns (total 6 columns):\n",
      "essay_id         7101 non-null int64\n",
      "essay_set        7101 non-null int64\n",
      "essay            7101 non-null object\n",
      "domain1_score    7101 non-null int64\n",
      "char_count       7101 non-null int64\n",
      "words            7101 non-null int64\n",
      "dtypes: int64(5), object(1)\n",
      "memory usage: 388.3+ KB\n",
      "None\n",
      "      essay_id  essay_set                                              essay  \\\n",
      "3583      5978          3  The features of the setting affect the cyclist...   \n",
      "3584      5979          3  The features of the setting affected the cycli...   \n",
      "3585      5980          3  Everyone travels to unfamiliar places. Sometim...   \n",
      "3586      5981          3  I believe the features of the cyclist affected...   \n",
      "3587      5982          3  The setting effects the cyclist because of the...   \n",
      "\n",
      "      domain1_score  char_count  words  \n",
      "3583              1         264     52  \n",
      "3584              2        1016    180  \n",
      "3585              1         512     98  \n",
      "3586              1         433     88  \n",
      "3587              2         701    135  \n"
     ]
    }
   ],
   "source": [
    "import re\n",
    "def add_dense_sparse_features(df):\n",
    "    # refer to kenton murray papers\n",
    "    essay = df['essay']\n",
    "    df['char_count'] = essay.apply(len)\n",
    "    df['words'] = essay.apply(lambda x: len(re.split(r'\\W+', x)))\n",
    "    return df\n",
    "\n",
    "# Apply function to df\n",
    "df_training = add_dense_sparse_features(df_training)\n",
    "print(df_training.info())\n",
    "print(df_training.head())"
   ]
  },
  {
   "cell_type": "code",
   "execution_count": 6,
   "metadata": {},
   "outputs": [
    {
     "name": "stdout",
     "output_type": "stream",
     "text": [
      "Before\n",
      "3583    1\n",
      "3584    2\n",
      "3585    1\n",
      "3586    1\n",
      "3587    2\n",
      "Name: domain1_score, dtype: int64\n",
      "           essay_id    essay_set  domain1_score   char_count        words\n",
      "count   7101.000000  7101.000000    7101.000000  7101.000000  7101.000000\n",
      "mean   11317.494437     4.518096       2.108013   670.460217   121.882974\n",
      "std     3345.669269     1.114875       1.052573   345.534816    59.447280\n",
      "min     5978.000000     3.000000       0.000000     8.000000     2.000000\n",
      "25%     8912.000000     4.000000       1.000000   393.000000    75.000000\n",
      "50%    11881.000000     5.000000       2.000000   642.000000   118.000000\n",
      "75%    14858.000000     6.000000       3.000000   904.000000   162.000000\n",
      "max    16633.000000     6.000000       4.000000  2718.000000   464.000000\n",
      "<class 'pandas.core.frame.DataFrame'>\n",
      "<class 'pandas.core.frame.DataFrame'>\n",
      "MAX SCORES {3: 4, 4: 4, 5: 5, 6: 5}\n",
      "After\n",
      "      essay_id  essay_set                                              essay  \\\n",
      "3583      5978          3  The features of the setting affect the cyclist...   \n",
      "3584      5979          3  The features of the setting affected the cycli...   \n",
      "3585      5980          3  Everyone travels to unfamiliar places. Sometim...   \n",
      "3586      5981          3  I believe the features of the cyclist affected...   \n",
      "3587      5982          3  The setting effects the cyclist because of the...   \n",
      "\n",
      "      domain1_score  char_count  words  \n",
      "3583           0.25         264     52  \n",
      "3584           0.50        1016    180  \n",
      "3585           0.25         512     98  \n",
      "3586           0.25         433     88  \n",
      "3587           0.50         701    135  \n",
      "           essay_id    essay_set  domain1_score   char_count        words\n",
      "count   7101.000000  7101.000000    7101.000000  7101.000000  7101.000000\n",
      "mean   11317.494437     4.518096       0.461914   670.460217   121.882974\n",
      "std     3345.669269     1.114875       0.217873   345.534816    59.447280\n",
      "min     5978.000000     3.000000       0.000000     8.000000     2.000000\n",
      "25%     8912.000000     4.000000       0.250000   393.000000    75.000000\n",
      "50%    11881.000000     5.000000       0.500000   642.000000   118.000000\n",
      "75%    14858.000000     6.000000       0.600000   904.000000   162.000000\n",
      "max    16633.000000     6.000000       0.800000  2718.000000   464.000000\n"
     ]
    }
   ],
   "source": [
    "# Normalize score data\n",
    "\n",
    "def normalize_score(df):\n",
    "    print('Before')\n",
    "    print(df['domain1_score'].head())\n",
    "    print(df.describe())\n",
    "    \n",
    "    max_scores = dict()\n",
    "    ##################OPTIMIZE########VERY SLOW########\n",
    "    for _, row in df.iterrows():\n",
    "        essay_set = row['essay_set']\n",
    "        _sliced = df[df['essay_set'] == essay_set]\n",
    "        \n",
    "        # Find the max of the score\n",
    "        max_scores[essay_set] = max(_sliced['domain1_score'] ) - min(_sliced['domain1_score']) + 1\n",
    "\n",
    "    \n",
    "    print(type(df))\n",
    "    df['domain1_score'] = df.apply(axis=1, func=lambda row: row['domain1_score'] / max_scores[row['essay_set']])\n",
    "    print(type(df))\n",
    "    print('MAX SCORES', max_scores)\n",
    "    \n",
    "    return df\n",
    "df_training = normalize_score(df_training)\n",
    "print('After')\n",
    "print(df_training.head())\n",
    "print(df_training.describe())"
   ]
  },
  {
   "cell_type": "code",
   "execution_count": 7,
   "metadata": {},
   "outputs": [
    {
     "data": {
      "text/plain": [
       "<matplotlib.axes._subplots.AxesSubplot at 0x25ac18d3e10>"
      ]
     },
     "execution_count": 7,
     "metadata": {},
     "output_type": "execute_result"
    },
    {
     "data": {
      "image/png": "[encoded data removed]",
      "text/plain": [
       "<Figure size 432x288 with 1 Axes>"
      ]
     },
     "metadata": {
      "needs_background": "light"
     },
     "output_type": "display_data"
    }
   ],
   "source": [
    "# How the scores are distributed\n",
    "sns.distplot(df_training['domain1_score'])"
   ]
  },
  {
   "cell_type": "code",
   "execution_count": 8,
   "metadata": {},
   "outputs": [],
   "source": [
    "######## START ACTUAL ML\n",
    "X = df_training[['char_count', 'words']]\n",
    "y = df_training['domain1_score']\n"
   ]
  },
  {
   "cell_type": "code",
   "execution_count": 9,
   "metadata": {},
   "outputs": [],
   "source": [
    "X_train, X_test, y_train, y_test = train_test_split(X, y, test_size=0.2, random_state=101)"
   ]
  },
  {
   "cell_type": "code",
   "execution_count": 10,
   "metadata": {},
   "outputs": [
    {
     "data": {
      "text/plain": [
       "LinearRegression(copy_X=True, fit_intercept=True, n_jobs=None,\n",
       "         normalize=False)"
      ]
     },
     "execution_count": 10,
     "metadata": {},
     "output_type": "execute_result"
    }
   ],
   "source": [
    "lm = LinearRegression()\n",
    "lm.fit(X_train, y_train)"
   ]
  },
  {
   "cell_type": "code",
   "execution_count": 11,
   "metadata": {},
   "outputs": [
    {
     "data": {
      "text/plain": [
       "<matplotlib.collections.PathCollection at 0x25ac1c94390>"
      ]
     },
     "execution_count": 11,
     "metadata": {},
     "output_type": "execute_result"
    },
    {
     "data": {
      "image/png": "[encoded data removed]",
      "text/plain": [
       "<Figure size 432x288 with 1 Axes>"
      ]
     },
     "metadata": {
      "needs_background": "light"
     },
     "output_type": "display_data"
    }
   ],
   "source": [
    "predictions = lm.predict(X_test)\n",
    "plt.xlabel('y_test')\n",
    "plt.ylabel('predictions')\n",
    "plt.scatter(y_test*100,predictions*100)\n"
   ]
  },
  {
   "cell_type": "code",
   "execution_count": 12,
   "metadata": {},
   "outputs": [
    {
     "data": {
      "text/plain": [
       "[Text(0.5, 0, 'difference (predicted vs actual)')]"
      ]
     },
     "execution_count": 12,
     "metadata": {},
     "output_type": "execute_result"
    },
    {
     "data": {
      "image/png": "[encoded data removed]",
      "text/plain": [
       "<Figure size 432x288 with 1 Axes>"
      ]
     },
     "metadata": {
      "needs_background": "light"
     },
     "output_type": "display_data"
    }
   ],
   "source": [
    "ax = sns.distplot((y_test-predictions)*100,bins=50)\n",
    "ax.set(xlabel='difference (predicted vs actual)')"
   ]
  },
  {
   "cell_type": "code",
   "execution_count": 13,
   "metadata": {},
   "outputs": [
    {
     "name": "stdout",
     "output_type": "stream",
     "text": [
      "MAE: 0.10884967250678584\n",
      "MSE: 0.02020221179720215\n",
      "RMSE: 0.14213448489793795\n"
     ]
    }
   ],
   "source": [
    "print('MAE:', metrics.mean_absolute_error(y_test, predictions))\n",
    "print('MSE:', metrics.mean_squared_error(y_test, predictions))\n",
    "print('RMSE:', np.sqrt(metrics.mean_squared_error(y_test, predictions)))"
   ]
  },
  {
   "cell_type": "code",
   "execution_count": 14,
   "metadata": {},
   "outputs": [],
   "source": [
    "df_training.to_csv('filtered_train.csv', encoding='utf8')"
   ]
  }
 ],
 "metadata": {
  "kernelspec": {
   "display_name": "Python 3",
   "language": "python",
   "name": "python3"
  },
  "language_info": {
   "codemirror_mode": {
    "name": "ipython",
    "version": 3
   },
   "file_extension": ".py",
   "mimetype": "text/x-python",
   "name": "python",
   "nbconvert_exporter": "python",
   "pygments_lexer": "ipython3",
   "version": "3.6.8"
  }
 },
 "nbformat": 4,
 "nbformat_minor": 2
}
